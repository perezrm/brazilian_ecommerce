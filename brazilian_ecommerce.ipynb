{
 "cells": [
  {
   "cell_type": "code",
   "execution_count": 43,
   "metadata": {},
   "outputs": [],
   "source": [
    "import numpy as np\n",
    "import pandas as pd\n",
    "import matplotlib.pyplot as plt\n",
    "import seaborn as sns"
   ]
  },
  {
   "cell_type": "code",
   "execution_count": 71,
   "metadata": {},
   "outputs": [],
   "source": [
    "order = pd.read_csv('olist_orders_dataset.csv')\n",
    "order.dropna(inplace = True)"
   ]
  },
  {
   "cell_type": "code",
   "execution_count": 72,
   "metadata": {},
   "outputs": [],
   "source": [
    "payment = pd.read_csv('olist_order_payments_dataset.csv')\n",
    "payment.dropna(inplace = True)"
   ]
  },
  {
   "cell_type": "code",
   "execution_count": 73,
   "metadata": {},
   "outputs": [
    {
     "data": {
      "text/plain": [
       "(103886, 5)"
      ]
     },
     "execution_count": 73,
     "metadata": {},
     "output_type": "execute_result"
    }
   ],
   "source": [
    "payment.shape"
   ]
  },
  {
   "cell_type": "code",
   "execution_count": 74,
   "metadata": {},
   "outputs": [
    {
     "data": {
      "text/plain": [
       "(96461, 8)"
      ]
     },
     "execution_count": 74,
     "metadata": {},
     "output_type": "execute_result"
    }
   ],
   "source": [
    "order.shape"
   ]
  },
  {
   "cell_type": "code",
   "execution_count": 75,
   "metadata": {},
   "outputs": [],
   "source": [
    "df = pd.merge(payment, order)"
   ]
  },
  {
   "cell_type": "code",
   "execution_count": 76,
   "metadata": {},
   "outputs": [
    {
     "data": {
      "text/plain": [
       "(100739, 12)"
      ]
     },
     "execution_count": 76,
     "metadata": {},
     "output_type": "execute_result"
    }
   ],
   "source": [
    "df.shape"
   ]
  },
  {
   "cell_type": "code",
   "execution_count": 77,
   "metadata": {},
   "outputs": [
    {
     "data": {
      "text/html": [
       "<div>\n",
       "<style scoped>\n",
       "    .dataframe tbody tr th:only-of-type {\n",
       "        vertical-align: middle;\n",
       "    }\n",
       "\n",
       "    .dataframe tbody tr th {\n",
       "        vertical-align: top;\n",
       "    }\n",
       "\n",
       "    .dataframe thead th {\n",
       "        text-align: right;\n",
       "    }\n",
       "</style>\n",
       "<table border=\"1\" class=\"dataframe\">\n",
       "  <thead>\n",
       "    <tr style=\"text-align: right;\">\n",
       "      <th></th>\n",
       "      <th>order_id</th>\n",
       "      <th>payment_sequential</th>\n",
       "      <th>payment_type</th>\n",
       "      <th>payment_installments</th>\n",
       "      <th>payment_value</th>\n",
       "      <th>customer_id</th>\n",
       "      <th>order_status</th>\n",
       "      <th>order_purchase_timestamp</th>\n",
       "      <th>order_approved_at</th>\n",
       "      <th>order_delivered_carrier_date</th>\n",
       "      <th>order_delivered_customer_date</th>\n",
       "      <th>order_estimated_delivery_date</th>\n",
       "    </tr>\n",
       "  </thead>\n",
       "  <tbody>\n",
       "    <tr>\n",
       "      <td>0</td>\n",
       "      <td>b81ef226f3fe1789b1e8b2acac839d17</td>\n",
       "      <td>1</td>\n",
       "      <td>credit_card</td>\n",
       "      <td>8</td>\n",
       "      <td>99.33</td>\n",
       "      <td>0a8556ac6be836b46b3e89920d59291c</td>\n",
       "      <td>delivered</td>\n",
       "      <td>2018-04-25 22:01:49</td>\n",
       "      <td>2018-04-25 22:15:09</td>\n",
       "      <td>2018-05-02 15:20:00</td>\n",
       "      <td>2018-05-09 17:36:51</td>\n",
       "      <td>2018-05-22 00:00:00</td>\n",
       "    </tr>\n",
       "    <tr>\n",
       "      <td>1</td>\n",
       "      <td>a9810da82917af2d9aefd1278f1dcfa0</td>\n",
       "      <td>1</td>\n",
       "      <td>credit_card</td>\n",
       "      <td>1</td>\n",
       "      <td>24.39</td>\n",
       "      <td>f2c7fc58a9de810828715166c672f10a</td>\n",
       "      <td>delivered</td>\n",
       "      <td>2018-06-26 11:01:38</td>\n",
       "      <td>2018-06-26 11:18:58</td>\n",
       "      <td>2018-06-28 14:18:00</td>\n",
       "      <td>2018-06-29 20:32:09</td>\n",
       "      <td>2018-07-16 00:00:00</td>\n",
       "    </tr>\n",
       "    <tr>\n",
       "      <td>2</td>\n",
       "      <td>25e8ea4e93396b6fa0d3dd708e76c1bd</td>\n",
       "      <td>1</td>\n",
       "      <td>credit_card</td>\n",
       "      <td>1</td>\n",
       "      <td>65.71</td>\n",
       "      <td>25b14b69de0b6e184ae6fe2755e478f9</td>\n",
       "      <td>delivered</td>\n",
       "      <td>2017-12-12 11:19:55</td>\n",
       "      <td>2017-12-14 09:52:34</td>\n",
       "      <td>2017-12-15 20:13:22</td>\n",
       "      <td>2017-12-18 17:24:41</td>\n",
       "      <td>2018-01-04 00:00:00</td>\n",
       "    </tr>\n",
       "    <tr>\n",
       "      <td>3</td>\n",
       "      <td>ba78997921bbcdc1373bb41e913ab953</td>\n",
       "      <td>1</td>\n",
       "      <td>credit_card</td>\n",
       "      <td>8</td>\n",
       "      <td>107.78</td>\n",
       "      <td>7a5d8efaaa1081f800628c30d2b0728f</td>\n",
       "      <td>delivered</td>\n",
       "      <td>2017-12-06 12:04:06</td>\n",
       "      <td>2017-12-06 12:13:20</td>\n",
       "      <td>2017-12-07 20:28:28</td>\n",
       "      <td>2017-12-21 01:35:51</td>\n",
       "      <td>2018-01-04 00:00:00</td>\n",
       "    </tr>\n",
       "    <tr>\n",
       "      <td>4</td>\n",
       "      <td>42fdf880ba16b47b59251dd489d4441a</td>\n",
       "      <td>1</td>\n",
       "      <td>credit_card</td>\n",
       "      <td>2</td>\n",
       "      <td>128.45</td>\n",
       "      <td>15fd6fb8f8312dbb4674e4518d6fa3b3</td>\n",
       "      <td>delivered</td>\n",
       "      <td>2018-05-21 13:59:17</td>\n",
       "      <td>2018-05-21 16:14:41</td>\n",
       "      <td>2018-05-22 11:46:00</td>\n",
       "      <td>2018-06-01 21:44:53</td>\n",
       "      <td>2018-06-13 00:00:00</td>\n",
       "    </tr>\n",
       "  </tbody>\n",
       "</table>\n",
       "</div>"
      ],
      "text/plain": [
       "                           order_id  payment_sequential payment_type  \\\n",
       "0  b81ef226f3fe1789b1e8b2acac839d17                   1  credit_card   \n",
       "1  a9810da82917af2d9aefd1278f1dcfa0                   1  credit_card   \n",
       "2  25e8ea4e93396b6fa0d3dd708e76c1bd                   1  credit_card   \n",
       "3  ba78997921bbcdc1373bb41e913ab953                   1  credit_card   \n",
       "4  42fdf880ba16b47b59251dd489d4441a                   1  credit_card   \n",
       "\n",
       "   payment_installments  payment_value                       customer_id  \\\n",
       "0                     8          99.33  0a8556ac6be836b46b3e89920d59291c   \n",
       "1                     1          24.39  f2c7fc58a9de810828715166c672f10a   \n",
       "2                     1          65.71  25b14b69de0b6e184ae6fe2755e478f9   \n",
       "3                     8         107.78  7a5d8efaaa1081f800628c30d2b0728f   \n",
       "4                     2         128.45  15fd6fb8f8312dbb4674e4518d6fa3b3   \n",
       "\n",
       "  order_status order_purchase_timestamp    order_approved_at  \\\n",
       "0    delivered      2018-04-25 22:01:49  2018-04-25 22:15:09   \n",
       "1    delivered      2018-06-26 11:01:38  2018-06-26 11:18:58   \n",
       "2    delivered      2017-12-12 11:19:55  2017-12-14 09:52:34   \n",
       "3    delivered      2017-12-06 12:04:06  2017-12-06 12:13:20   \n",
       "4    delivered      2018-05-21 13:59:17  2018-05-21 16:14:41   \n",
       "\n",
       "  order_delivered_carrier_date order_delivered_customer_date  \\\n",
       "0          2018-05-02 15:20:00           2018-05-09 17:36:51   \n",
       "1          2018-06-28 14:18:00           2018-06-29 20:32:09   \n",
       "2          2017-12-15 20:13:22           2017-12-18 17:24:41   \n",
       "3          2017-12-07 20:28:28           2017-12-21 01:35:51   \n",
       "4          2018-05-22 11:46:00           2018-06-01 21:44:53   \n",
       "\n",
       "  order_estimated_delivery_date  \n",
       "0           2018-05-22 00:00:00  \n",
       "1           2018-07-16 00:00:00  \n",
       "2           2018-01-04 00:00:00  \n",
       "3           2018-01-04 00:00:00  \n",
       "4           2018-06-13 00:00:00  "
      ]
     },
     "execution_count": 77,
     "metadata": {},
     "output_type": "execute_result"
    }
   ],
   "source": [
    "df.head()"
   ]
  },
  {
   "cell_type": "code",
   "execution_count": 90,
   "metadata": {},
   "outputs": [],
   "source": [
    "item = pd.read_csv('olist_order_items_dataset.csv')\n",
    "review = pd.read_csv('olist_order_reviews_dataset.csv')\n",
    "review = review.drop(columns=['review_comment_title', 'review_comment_message'])\n",
    "customer = pd.read_csv('olist_customers_dataset.csv')\n",
    "product = pd.read_csv('olist_products_dataset.csv')\n",
    "item.dropna(inplace = True)\n",
    "review.dropna(inplace = True)\n",
    "customer.dropna(inplace = True)\n",
    "product.dropna(inplace = True)"
   ]
  },
  {
   "cell_type": "code",
   "execution_count": 91,
   "metadata": {},
   "outputs": [
    {
     "data": {
      "text/plain": [
       "(114073, 30)"
      ]
     },
     "execution_count": 91,
     "metadata": {},
     "output_type": "execute_result"
    }
   ],
   "source": [
    "df = pd.merge(df, item)\n",
    "df.shape"
   ]
  },
  {
   "cell_type": "code",
   "execution_count": 92,
   "metadata": {},
   "outputs": [
    {
     "data": {
      "text/plain": [
       "(114073, 30)"
      ]
     },
     "execution_count": 92,
     "metadata": {},
     "output_type": "execute_result"
    }
   ],
   "source": [
    "df = pd.merge(df, review)\n",
    "df.shape"
   ]
  },
  {
   "cell_type": "code",
   "execution_count": 93,
   "metadata": {},
   "outputs": [
    {
     "data": {
      "text/plain": [
       "(114073, 30)"
      ]
     },
     "execution_count": 93,
     "metadata": {},
     "output_type": "execute_result"
    }
   ],
   "source": [
    "df = pd.merge(df, customer)\n",
    "df.shape"
   ]
  },
  {
   "cell_type": "code",
   "execution_count": 94,
   "metadata": {},
   "outputs": [
    {
     "data": {
      "text/plain": [
       "(114073, 34)"
      ]
     },
     "execution_count": 94,
     "metadata": {},
     "output_type": "execute_result"
    }
   ],
   "source": [
    "df = pd.merge(df, product)\n",
    "df.shape"
   ]
  },
  {
   "cell_type": "code",
   "execution_count": 95,
   "metadata": {},
   "outputs": [
    {
     "data": {
      "text/html": [
       "<div>\n",
       "<style scoped>\n",
       "    .dataframe tbody tr th:only-of-type {\n",
       "        vertical-align: middle;\n",
       "    }\n",
       "\n",
       "    .dataframe tbody tr th {\n",
       "        vertical-align: top;\n",
       "    }\n",
       "\n",
       "    .dataframe thead th {\n",
       "        text-align: right;\n",
       "    }\n",
       "</style>\n",
       "<table border=\"1\" class=\"dataframe\">\n",
       "  <thead>\n",
       "    <tr style=\"text-align: right;\">\n",
       "      <th></th>\n",
       "      <th>order_id</th>\n",
       "      <th>payment_sequential</th>\n",
       "      <th>payment_type</th>\n",
       "      <th>payment_installments</th>\n",
       "      <th>payment_value</th>\n",
       "      <th>customer_id</th>\n",
       "      <th>order_status</th>\n",
       "      <th>order_purchase_timestamp</th>\n",
       "      <th>order_approved_at</th>\n",
       "      <th>order_delivered_carrier_date</th>\n",
       "      <th>...</th>\n",
       "      <th>customer_city</th>\n",
       "      <th>customer_state</th>\n",
       "      <th>product_category_name</th>\n",
       "      <th>product_name_lenght</th>\n",
       "      <th>product_description_lenght</th>\n",
       "      <th>product_photos_qty</th>\n",
       "      <th>product_weight_g</th>\n",
       "      <th>product_length_cm</th>\n",
       "      <th>product_height_cm</th>\n",
       "      <th>product_width_cm</th>\n",
       "    </tr>\n",
       "  </thead>\n",
       "  <tbody>\n",
       "    <tr>\n",
       "      <td>0</td>\n",
       "      <td>b81ef226f3fe1789b1e8b2acac839d17</td>\n",
       "      <td>1</td>\n",
       "      <td>credit_card</td>\n",
       "      <td>8</td>\n",
       "      <td>99.33</td>\n",
       "      <td>0a8556ac6be836b46b3e89920d59291c</td>\n",
       "      <td>delivered</td>\n",
       "      <td>2018-04-25 22:01:49</td>\n",
       "      <td>2018-04-25 22:15:09</td>\n",
       "      <td>2018-05-02 15:20:00</td>\n",
       "      <td>...</td>\n",
       "      <td>teofilo otoni</td>\n",
       "      <td>MG</td>\n",
       "      <td>casa_construcao</td>\n",
       "      <td>57.0</td>\n",
       "      <td>921.0</td>\n",
       "      <td>8.0</td>\n",
       "      <td>800.0</td>\n",
       "      <td>17.0</td>\n",
       "      <td>27.0</td>\n",
       "      <td>17.0</td>\n",
       "    </tr>\n",
       "    <tr>\n",
       "      <td>1</td>\n",
       "      <td>d86305c284cecff56c7ee9d3fbd4f8d6</td>\n",
       "      <td>1</td>\n",
       "      <td>credit_card</td>\n",
       "      <td>4</td>\n",
       "      <td>93.72</td>\n",
       "      <td>0e37385834260d6111727103a93e790a</td>\n",
       "      <td>delivered</td>\n",
       "      <td>2018-04-15 22:53:59</td>\n",
       "      <td>2018-04-15 23:10:32</td>\n",
       "      <td>2018-04-16 23:54:55</td>\n",
       "      <td>...</td>\n",
       "      <td>barretos</td>\n",
       "      <td>SP</td>\n",
       "      <td>casa_construcao</td>\n",
       "      <td>57.0</td>\n",
       "      <td>921.0</td>\n",
       "      <td>8.0</td>\n",
       "      <td>800.0</td>\n",
       "      <td>17.0</td>\n",
       "      <td>27.0</td>\n",
       "      <td>17.0</td>\n",
       "    </tr>\n",
       "    <tr>\n",
       "      <td>2</td>\n",
       "      <td>a9810da82917af2d9aefd1278f1dcfa0</td>\n",
       "      <td>1</td>\n",
       "      <td>credit_card</td>\n",
       "      <td>1</td>\n",
       "      <td>24.39</td>\n",
       "      <td>f2c7fc58a9de810828715166c672f10a</td>\n",
       "      <td>delivered</td>\n",
       "      <td>2018-06-26 11:01:38</td>\n",
       "      <td>2018-06-26 11:18:58</td>\n",
       "      <td>2018-06-28 14:18:00</td>\n",
       "      <td>...</td>\n",
       "      <td>sao paulo</td>\n",
       "      <td>SP</td>\n",
       "      <td>automotivo</td>\n",
       "      <td>59.0</td>\n",
       "      <td>1274.0</td>\n",
       "      <td>2.0</td>\n",
       "      <td>150.0</td>\n",
       "      <td>16.0</td>\n",
       "      <td>6.0</td>\n",
       "      <td>11.0</td>\n",
       "    </tr>\n",
       "    <tr>\n",
       "      <td>3</td>\n",
       "      <td>25e8ea4e93396b6fa0d3dd708e76c1bd</td>\n",
       "      <td>1</td>\n",
       "      <td>credit_card</td>\n",
       "      <td>1</td>\n",
       "      <td>65.71</td>\n",
       "      <td>25b14b69de0b6e184ae6fe2755e478f9</td>\n",
       "      <td>delivered</td>\n",
       "      <td>2017-12-12 11:19:55</td>\n",
       "      <td>2017-12-14 09:52:34</td>\n",
       "      <td>2017-12-15 20:13:22</td>\n",
       "      <td>...</td>\n",
       "      <td>sao paulo</td>\n",
       "      <td>SP</td>\n",
       "      <td>perfumaria</td>\n",
       "      <td>54.0</td>\n",
       "      <td>1536.0</td>\n",
       "      <td>2.0</td>\n",
       "      <td>250.0</td>\n",
       "      <td>20.0</td>\n",
       "      <td>8.0</td>\n",
       "      <td>21.0</td>\n",
       "    </tr>\n",
       "    <tr>\n",
       "      <td>4</td>\n",
       "      <td>6df674fd09d933a85574460e32a94e23</td>\n",
       "      <td>1</td>\n",
       "      <td>credit_card</td>\n",
       "      <td>2</td>\n",
       "      <td>65.71</td>\n",
       "      <td>49a332427c5be4c418541be8753c5238</td>\n",
       "      <td>delivered</td>\n",
       "      <td>2018-02-13 18:37:48</td>\n",
       "      <td>2018-02-13 18:50:33</td>\n",
       "      <td>2018-02-14 19:12:36</td>\n",
       "      <td>...</td>\n",
       "      <td>itu</td>\n",
       "      <td>SP</td>\n",
       "      <td>perfumaria</td>\n",
       "      <td>54.0</td>\n",
       "      <td>1536.0</td>\n",
       "      <td>2.0</td>\n",
       "      <td>250.0</td>\n",
       "      <td>20.0</td>\n",
       "      <td>8.0</td>\n",
       "      <td>21.0</td>\n",
       "    </tr>\n",
       "  </tbody>\n",
       "</table>\n",
       "<p>5 rows × 34 columns</p>\n",
       "</div>"
      ],
      "text/plain": [
       "                           order_id  payment_sequential payment_type  \\\n",
       "0  b81ef226f3fe1789b1e8b2acac839d17                   1  credit_card   \n",
       "1  d86305c284cecff56c7ee9d3fbd4f8d6                   1  credit_card   \n",
       "2  a9810da82917af2d9aefd1278f1dcfa0                   1  credit_card   \n",
       "3  25e8ea4e93396b6fa0d3dd708e76c1bd                   1  credit_card   \n",
       "4  6df674fd09d933a85574460e32a94e23                   1  credit_card   \n",
       "\n",
       "   payment_installments  payment_value                       customer_id  \\\n",
       "0                     8          99.33  0a8556ac6be836b46b3e89920d59291c   \n",
       "1                     4          93.72  0e37385834260d6111727103a93e790a   \n",
       "2                     1          24.39  f2c7fc58a9de810828715166c672f10a   \n",
       "3                     1          65.71  25b14b69de0b6e184ae6fe2755e478f9   \n",
       "4                     2          65.71  49a332427c5be4c418541be8753c5238   \n",
       "\n",
       "  order_status order_purchase_timestamp    order_approved_at  \\\n",
       "0    delivered      2018-04-25 22:01:49  2018-04-25 22:15:09   \n",
       "1    delivered      2018-04-15 22:53:59  2018-04-15 23:10:32   \n",
       "2    delivered      2018-06-26 11:01:38  2018-06-26 11:18:58   \n",
       "3    delivered      2017-12-12 11:19:55  2017-12-14 09:52:34   \n",
       "4    delivered      2018-02-13 18:37:48  2018-02-13 18:50:33   \n",
       "\n",
       "  order_delivered_carrier_date  ...  customer_city customer_state  \\\n",
       "0          2018-05-02 15:20:00  ...  teofilo otoni             MG   \n",
       "1          2018-04-16 23:54:55  ...       barretos             SP   \n",
       "2          2018-06-28 14:18:00  ...      sao paulo             SP   \n",
       "3          2017-12-15 20:13:22  ...      sao paulo             SP   \n",
       "4          2018-02-14 19:12:36  ...            itu             SP   \n",
       "\n",
       "   product_category_name product_name_lenght product_description_lenght  \\\n",
       "0        casa_construcao                57.0                      921.0   \n",
       "1        casa_construcao                57.0                      921.0   \n",
       "2             automotivo                59.0                     1274.0   \n",
       "3             perfumaria                54.0                     1536.0   \n",
       "4             perfumaria                54.0                     1536.0   \n",
       "\n",
       "  product_photos_qty  product_weight_g  product_length_cm product_height_cm  \\\n",
       "0                8.0             800.0               17.0              27.0   \n",
       "1                8.0             800.0               17.0              27.0   \n",
       "2                2.0             150.0               16.0               6.0   \n",
       "3                2.0             250.0               20.0               8.0   \n",
       "4                2.0             250.0               20.0               8.0   \n",
       "\n",
       "   product_width_cm  \n",
       "0              17.0  \n",
       "1              17.0  \n",
       "2              11.0  \n",
       "3              21.0  \n",
       "4              21.0  \n",
       "\n",
       "[5 rows x 34 columns]"
      ]
     },
     "execution_count": 95,
     "metadata": {},
     "output_type": "execute_result"
    }
   ],
   "source": [
    "df.head()"
   ]
  },
  {
   "cell_type": "code",
   "execution_count": 96,
   "metadata": {},
   "outputs": [
    {
     "name": "stdout",
     "output_type": "stream",
     "text": [
      "<class 'pandas.core.frame.DataFrame'>\n",
      "Int64Index: 114073 entries, 0 to 114072\n",
      "Data columns (total 34 columns):\n",
      "order_id                         114073 non-null object\n",
      "payment_sequential               114073 non-null int64\n",
      "payment_type                     114073 non-null object\n",
      "payment_installments             114073 non-null int64\n",
      "payment_value                    114073 non-null float64\n",
      "customer_id                      114073 non-null object\n",
      "order_status                     114073 non-null object\n",
      "order_purchase_timestamp         114073 non-null object\n",
      "order_approved_at                114073 non-null object\n",
      "order_delivered_carrier_date     114073 non-null object\n",
      "order_delivered_customer_date    114073 non-null object\n",
      "order_estimated_delivery_date    114073 non-null object\n",
      "order_item_id                    114073 non-null int64\n",
      "product_id                       114073 non-null object\n",
      "seller_id                        114073 non-null object\n",
      "shipping_limit_date              114073 non-null object\n",
      "price                            114073 non-null float64\n",
      "freight_value                    114073 non-null float64\n",
      "review_id                        114073 non-null object\n",
      "review_score                     114073 non-null int64\n",
      "review_creation_date             114073 non-null object\n",
      "review_answer_timestamp          114073 non-null object\n",
      "customer_unique_id               114073 non-null object\n",
      "customer_zip_code_prefix         114073 non-null int64\n",
      "customer_city                    114073 non-null object\n",
      "customer_state                   114073 non-null object\n",
      "product_category_name            114073 non-null object\n",
      "product_name_lenght              114073 non-null float64\n",
      "product_description_lenght       114073 non-null float64\n",
      "product_photos_qty               114073 non-null float64\n",
      "product_weight_g                 114073 non-null float64\n",
      "product_length_cm                114073 non-null float64\n",
      "product_height_cm                114073 non-null float64\n",
      "product_width_cm                 114073 non-null float64\n",
      "dtypes: float64(10), int64(5), object(19)\n",
      "memory usage: 30.5+ MB\n"
     ]
    }
   ],
   "source": [
    "df.info()"
   ]
  },
  {
   "cell_type": "code",
   "execution_count": 97,
   "metadata": {},
   "outputs": [],
   "source": [
    "df = df.drop(columns=['product_width_cm', 'product_height_cm', 'product_length_cm', 'product_weight_g'])\n",
    "df = df.drop(columns=['seller_id', 'shipping_limit_date', 'freight_value', 'product_name_lenght'])\n",
    "df = df.drop(columns=['product_description_lenght', 'product_category_name', 'review_creation_date', 'review_answer_timestamp'])\n",
    "df = df.drop(columns=['customer_unique_id', 'order_approved_at', 'order_status', 'order_delivered_carrier_date'])\n",
    "df = df.drop(columns=['order_delivered_customer_date', 'order_estimated_delivery_date', 'payment_sequential', 'payment_installments'])"
   ]
  },
  {
   "cell_type": "code",
   "execution_count": 98,
   "metadata": {},
   "outputs": [
    {
     "data": {
      "text/html": [
       "<div>\n",
       "<style scoped>\n",
       "    .dataframe tbody tr th:only-of-type {\n",
       "        vertical-align: middle;\n",
       "    }\n",
       "\n",
       "    .dataframe tbody tr th {\n",
       "        vertical-align: top;\n",
       "    }\n",
       "\n",
       "    .dataframe thead th {\n",
       "        text-align: right;\n",
       "    }\n",
       "</style>\n",
       "<table border=\"1\" class=\"dataframe\">\n",
       "  <thead>\n",
       "    <tr style=\"text-align: right;\">\n",
       "      <th></th>\n",
       "      <th>order_id</th>\n",
       "      <th>payment_type</th>\n",
       "      <th>payment_value</th>\n",
       "      <th>customer_id</th>\n",
       "      <th>order_purchase_timestamp</th>\n",
       "      <th>order_item_id</th>\n",
       "      <th>product_id</th>\n",
       "      <th>price</th>\n",
       "      <th>review_id</th>\n",
       "      <th>review_score</th>\n",
       "      <th>customer_zip_code_prefix</th>\n",
       "      <th>customer_city</th>\n",
       "      <th>customer_state</th>\n",
       "      <th>product_photos_qty</th>\n",
       "    </tr>\n",
       "  </thead>\n",
       "  <tbody>\n",
       "    <tr>\n",
       "      <td>0</td>\n",
       "      <td>b81ef226f3fe1789b1e8b2acac839d17</td>\n",
       "      <td>credit_card</td>\n",
       "      <td>99.33</td>\n",
       "      <td>0a8556ac6be836b46b3e89920d59291c</td>\n",
       "      <td>2018-04-25 22:01:49</td>\n",
       "      <td>1</td>\n",
       "      <td>af74cc53dcffc8384b29e7abfa41902b</td>\n",
       "      <td>79.80</td>\n",
       "      <td>4ce650e117a5b292bf5ea980a61eb61e</td>\n",
       "      <td>1</td>\n",
       "      <td>39801</td>\n",
       "      <td>teofilo otoni</td>\n",
       "      <td>MG</td>\n",
       "      <td>8.0</td>\n",
       "    </tr>\n",
       "    <tr>\n",
       "      <td>1</td>\n",
       "      <td>d86305c284cecff56c7ee9d3fbd4f8d6</td>\n",
       "      <td>credit_card</td>\n",
       "      <td>93.72</td>\n",
       "      <td>0e37385834260d6111727103a93e790a</td>\n",
       "      <td>2018-04-15 22:53:59</td>\n",
       "      <td>1</td>\n",
       "      <td>af74cc53dcffc8384b29e7abfa41902b</td>\n",
       "      <td>79.80</td>\n",
       "      <td>ec9d84039245b981ebdbf7d16c723b6e</td>\n",
       "      <td>4</td>\n",
       "      <td>14781</td>\n",
       "      <td>barretos</td>\n",
       "      <td>SP</td>\n",
       "      <td>8.0</td>\n",
       "    </tr>\n",
       "    <tr>\n",
       "      <td>2</td>\n",
       "      <td>a9810da82917af2d9aefd1278f1dcfa0</td>\n",
       "      <td>credit_card</td>\n",
       "      <td>24.39</td>\n",
       "      <td>f2c7fc58a9de810828715166c672f10a</td>\n",
       "      <td>2018-06-26 11:01:38</td>\n",
       "      <td>1</td>\n",
       "      <td>a630cc320a8c872f9de830cf121661a3</td>\n",
       "      <td>17.00</td>\n",
       "      <td>ad2036caca61484fc435d7e673c020f2</td>\n",
       "      <td>5</td>\n",
       "      <td>2422</td>\n",
       "      <td>sao paulo</td>\n",
       "      <td>SP</td>\n",
       "      <td>2.0</td>\n",
       "    </tr>\n",
       "    <tr>\n",
       "      <td>3</td>\n",
       "      <td>25e8ea4e93396b6fa0d3dd708e76c1bd</td>\n",
       "      <td>credit_card</td>\n",
       "      <td>65.71</td>\n",
       "      <td>25b14b69de0b6e184ae6fe2755e478f9</td>\n",
       "      <td>2017-12-12 11:19:55</td>\n",
       "      <td>1</td>\n",
       "      <td>2028bf1b01cafb2d2b1901fca4083222</td>\n",
       "      <td>56.99</td>\n",
       "      <td>bcddfa0f7d2e54cfc74bae4f01b84d92</td>\n",
       "      <td>5</td>\n",
       "      <td>2652</td>\n",
       "      <td>sao paulo</td>\n",
       "      <td>SP</td>\n",
       "      <td>2.0</td>\n",
       "    </tr>\n",
       "    <tr>\n",
       "      <td>4</td>\n",
       "      <td>6df674fd09d933a85574460e32a94e23</td>\n",
       "      <td>credit_card</td>\n",
       "      <td>65.71</td>\n",
       "      <td>49a332427c5be4c418541be8753c5238</td>\n",
       "      <td>2018-02-13 18:37:48</td>\n",
       "      <td>1</td>\n",
       "      <td>2028bf1b01cafb2d2b1901fca4083222</td>\n",
       "      <td>56.99</td>\n",
       "      <td>526397ef31c4d8b684347b3aef5f03f3</td>\n",
       "      <td>4</td>\n",
       "      <td>13308</td>\n",
       "      <td>itu</td>\n",
       "      <td>SP</td>\n",
       "      <td>2.0</td>\n",
       "    </tr>\n",
       "  </tbody>\n",
       "</table>\n",
       "</div>"
      ],
      "text/plain": [
       "                           order_id payment_type  payment_value  \\\n",
       "0  b81ef226f3fe1789b1e8b2acac839d17  credit_card          99.33   \n",
       "1  d86305c284cecff56c7ee9d3fbd4f8d6  credit_card          93.72   \n",
       "2  a9810da82917af2d9aefd1278f1dcfa0  credit_card          24.39   \n",
       "3  25e8ea4e93396b6fa0d3dd708e76c1bd  credit_card          65.71   \n",
       "4  6df674fd09d933a85574460e32a94e23  credit_card          65.71   \n",
       "\n",
       "                        customer_id order_purchase_timestamp  order_item_id  \\\n",
       "0  0a8556ac6be836b46b3e89920d59291c      2018-04-25 22:01:49              1   \n",
       "1  0e37385834260d6111727103a93e790a      2018-04-15 22:53:59              1   \n",
       "2  f2c7fc58a9de810828715166c672f10a      2018-06-26 11:01:38              1   \n",
       "3  25b14b69de0b6e184ae6fe2755e478f9      2017-12-12 11:19:55              1   \n",
       "4  49a332427c5be4c418541be8753c5238      2018-02-13 18:37:48              1   \n",
       "\n",
       "                         product_id  price                         review_id  \\\n",
       "0  af74cc53dcffc8384b29e7abfa41902b  79.80  4ce650e117a5b292bf5ea980a61eb61e   \n",
       "1  af74cc53dcffc8384b29e7abfa41902b  79.80  ec9d84039245b981ebdbf7d16c723b6e   \n",
       "2  a630cc320a8c872f9de830cf121661a3  17.00  ad2036caca61484fc435d7e673c020f2   \n",
       "3  2028bf1b01cafb2d2b1901fca4083222  56.99  bcddfa0f7d2e54cfc74bae4f01b84d92   \n",
       "4  2028bf1b01cafb2d2b1901fca4083222  56.99  526397ef31c4d8b684347b3aef5f03f3   \n",
       "\n",
       "   review_score  customer_zip_code_prefix  customer_city customer_state  \\\n",
       "0             1                     39801  teofilo otoni             MG   \n",
       "1             4                     14781       barretos             SP   \n",
       "2             5                      2422      sao paulo             SP   \n",
       "3             5                      2652      sao paulo             SP   \n",
       "4             4                     13308            itu             SP   \n",
       "\n",
       "   product_photos_qty  \n",
       "0                 8.0  \n",
       "1                 8.0  \n",
       "2                 2.0  \n",
       "3                 2.0  \n",
       "4                 2.0  "
      ]
     },
     "execution_count": 98,
     "metadata": {},
     "output_type": "execute_result"
    }
   ],
   "source": [
    "df.head()"
   ]
  },
  {
   "cell_type": "code",
   "execution_count": 107,
   "metadata": {},
   "outputs": [],
   "source": [
    "df['order_purchase_timestamp']= pd.to_datetime(df['order_purchase_timestamp'])"
   ]
  },
  {
   "cell_type": "code",
   "execution_count": 108,
   "metadata": {},
   "outputs": [],
   "source": [
    "import datetime as dt\n",
    "df['semester'] = np.where(df['order_purchase_timestamp'].dt.quarter.isin([1,2]),1,2)"
   ]
  },
  {
   "cell_type": "code",
   "execution_count": 160,
   "metadata": {},
   "outputs": [],
   "source": [
    "df['year'] = df['order_purchase_timestamp'].dt.year\n",
    "df['month'] = df['order_purchase_timestamp'].dt.month"
   ]
  },
  {
   "cell_type": "code",
   "execution_count": 161,
   "metadata": {},
   "outputs": [],
   "source": [
    "df['year_semester'] = df['year'].map(str) + '-' +df['semester'].map(str)"
   ]
  },
  {
   "cell_type": "code",
   "execution_count": 162,
   "metadata": {},
   "outputs": [
    {
     "data": {
      "text/html": [
       "<div>\n",
       "<style scoped>\n",
       "    .dataframe tbody tr th:only-of-type {\n",
       "        vertical-align: middle;\n",
       "    }\n",
       "\n",
       "    .dataframe tbody tr th {\n",
       "        vertical-align: top;\n",
       "    }\n",
       "\n",
       "    .dataframe thead th {\n",
       "        text-align: right;\n",
       "    }\n",
       "</style>\n",
       "<table border=\"1\" class=\"dataframe\">\n",
       "  <thead>\n",
       "    <tr style=\"text-align: right;\">\n",
       "      <th></th>\n",
       "      <th>order_id</th>\n",
       "      <th>payment_type</th>\n",
       "      <th>payment_value</th>\n",
       "      <th>customer_id</th>\n",
       "      <th>order_purchase_timestamp</th>\n",
       "      <th>order_item_id</th>\n",
       "      <th>product_id</th>\n",
       "      <th>price</th>\n",
       "      <th>review_id</th>\n",
       "      <th>review_score</th>\n",
       "      <th>customer_zip_code_prefix</th>\n",
       "      <th>customer_city</th>\n",
       "      <th>customer_state</th>\n",
       "      <th>product_photos_qty</th>\n",
       "      <th>semester</th>\n",
       "      <th>year</th>\n",
       "      <th>year_semester</th>\n",
       "      <th>month</th>\n",
       "    </tr>\n",
       "  </thead>\n",
       "  <tbody>\n",
       "    <tr>\n",
       "      <td>0</td>\n",
       "      <td>b81ef226f3fe1789b1e8b2acac839d17</td>\n",
       "      <td>credit_card</td>\n",
       "      <td>99.33</td>\n",
       "      <td>0a8556ac6be836b46b3e89920d59291c</td>\n",
       "      <td>2018-04-25 22:01:49</td>\n",
       "      <td>1</td>\n",
       "      <td>af74cc53dcffc8384b29e7abfa41902b</td>\n",
       "      <td>79.80</td>\n",
       "      <td>4ce650e117a5b292bf5ea980a61eb61e</td>\n",
       "      <td>1</td>\n",
       "      <td>39801</td>\n",
       "      <td>teofilo otoni</td>\n",
       "      <td>MG</td>\n",
       "      <td>8.0</td>\n",
       "      <td>1</td>\n",
       "      <td>2018</td>\n",
       "      <td>2018-1</td>\n",
       "      <td>4</td>\n",
       "    </tr>\n",
       "    <tr>\n",
       "      <td>1</td>\n",
       "      <td>d86305c284cecff56c7ee9d3fbd4f8d6</td>\n",
       "      <td>credit_card</td>\n",
       "      <td>93.72</td>\n",
       "      <td>0e37385834260d6111727103a93e790a</td>\n",
       "      <td>2018-04-15 22:53:59</td>\n",
       "      <td>1</td>\n",
       "      <td>af74cc53dcffc8384b29e7abfa41902b</td>\n",
       "      <td>79.80</td>\n",
       "      <td>ec9d84039245b981ebdbf7d16c723b6e</td>\n",
       "      <td>4</td>\n",
       "      <td>14781</td>\n",
       "      <td>barretos</td>\n",
       "      <td>SP</td>\n",
       "      <td>8.0</td>\n",
       "      <td>1</td>\n",
       "      <td>2018</td>\n",
       "      <td>2018-1</td>\n",
       "      <td>4</td>\n",
       "    </tr>\n",
       "    <tr>\n",
       "      <td>2</td>\n",
       "      <td>a9810da82917af2d9aefd1278f1dcfa0</td>\n",
       "      <td>credit_card</td>\n",
       "      <td>24.39</td>\n",
       "      <td>f2c7fc58a9de810828715166c672f10a</td>\n",
       "      <td>2018-06-26 11:01:38</td>\n",
       "      <td>1</td>\n",
       "      <td>a630cc320a8c872f9de830cf121661a3</td>\n",
       "      <td>17.00</td>\n",
       "      <td>ad2036caca61484fc435d7e673c020f2</td>\n",
       "      <td>5</td>\n",
       "      <td>2422</td>\n",
       "      <td>sao paulo</td>\n",
       "      <td>SP</td>\n",
       "      <td>2.0</td>\n",
       "      <td>1</td>\n",
       "      <td>2018</td>\n",
       "      <td>2018-1</td>\n",
       "      <td>6</td>\n",
       "    </tr>\n",
       "    <tr>\n",
       "      <td>3</td>\n",
       "      <td>25e8ea4e93396b6fa0d3dd708e76c1bd</td>\n",
       "      <td>credit_card</td>\n",
       "      <td>65.71</td>\n",
       "      <td>25b14b69de0b6e184ae6fe2755e478f9</td>\n",
       "      <td>2017-12-12 11:19:55</td>\n",
       "      <td>1</td>\n",
       "      <td>2028bf1b01cafb2d2b1901fca4083222</td>\n",
       "      <td>56.99</td>\n",
       "      <td>bcddfa0f7d2e54cfc74bae4f01b84d92</td>\n",
       "      <td>5</td>\n",
       "      <td>2652</td>\n",
       "      <td>sao paulo</td>\n",
       "      <td>SP</td>\n",
       "      <td>2.0</td>\n",
       "      <td>2</td>\n",
       "      <td>2017</td>\n",
       "      <td>2017-2</td>\n",
       "      <td>12</td>\n",
       "    </tr>\n",
       "    <tr>\n",
       "      <td>4</td>\n",
       "      <td>6df674fd09d933a85574460e32a94e23</td>\n",
       "      <td>credit_card</td>\n",
       "      <td>65.71</td>\n",
       "      <td>49a332427c5be4c418541be8753c5238</td>\n",
       "      <td>2018-02-13 18:37:48</td>\n",
       "      <td>1</td>\n",
       "      <td>2028bf1b01cafb2d2b1901fca4083222</td>\n",
       "      <td>56.99</td>\n",
       "      <td>526397ef31c4d8b684347b3aef5f03f3</td>\n",
       "      <td>4</td>\n",
       "      <td>13308</td>\n",
       "      <td>itu</td>\n",
       "      <td>SP</td>\n",
       "      <td>2.0</td>\n",
       "      <td>1</td>\n",
       "      <td>2018</td>\n",
       "      <td>2018-1</td>\n",
       "      <td>2</td>\n",
       "    </tr>\n",
       "  </tbody>\n",
       "</table>\n",
       "</div>"
      ],
      "text/plain": [
       "                           order_id payment_type  payment_value  \\\n",
       "0  b81ef226f3fe1789b1e8b2acac839d17  credit_card          99.33   \n",
       "1  d86305c284cecff56c7ee9d3fbd4f8d6  credit_card          93.72   \n",
       "2  a9810da82917af2d9aefd1278f1dcfa0  credit_card          24.39   \n",
       "3  25e8ea4e93396b6fa0d3dd708e76c1bd  credit_card          65.71   \n",
       "4  6df674fd09d933a85574460e32a94e23  credit_card          65.71   \n",
       "\n",
       "                        customer_id order_purchase_timestamp  order_item_id  \\\n",
       "0  0a8556ac6be836b46b3e89920d59291c      2018-04-25 22:01:49              1   \n",
       "1  0e37385834260d6111727103a93e790a      2018-04-15 22:53:59              1   \n",
       "2  f2c7fc58a9de810828715166c672f10a      2018-06-26 11:01:38              1   \n",
       "3  25b14b69de0b6e184ae6fe2755e478f9      2017-12-12 11:19:55              1   \n",
       "4  49a332427c5be4c418541be8753c5238      2018-02-13 18:37:48              1   \n",
       "\n",
       "                         product_id  price                         review_id  \\\n",
       "0  af74cc53dcffc8384b29e7abfa41902b  79.80  4ce650e117a5b292bf5ea980a61eb61e   \n",
       "1  af74cc53dcffc8384b29e7abfa41902b  79.80  ec9d84039245b981ebdbf7d16c723b6e   \n",
       "2  a630cc320a8c872f9de830cf121661a3  17.00  ad2036caca61484fc435d7e673c020f2   \n",
       "3  2028bf1b01cafb2d2b1901fca4083222  56.99  bcddfa0f7d2e54cfc74bae4f01b84d92   \n",
       "4  2028bf1b01cafb2d2b1901fca4083222  56.99  526397ef31c4d8b684347b3aef5f03f3   \n",
       "\n",
       "   review_score  customer_zip_code_prefix  customer_city customer_state  \\\n",
       "0             1                     39801  teofilo otoni             MG   \n",
       "1             4                     14781       barretos             SP   \n",
       "2             5                      2422      sao paulo             SP   \n",
       "3             5                      2652      sao paulo             SP   \n",
       "4             4                     13308            itu             SP   \n",
       "\n",
       "   product_photos_qty  semester  year year_semester  month  \n",
       "0                 8.0         1  2018        2018-1      4  \n",
       "1                 8.0         1  2018        2018-1      4  \n",
       "2                 2.0         1  2018        2018-1      6  \n",
       "3                 2.0         2  2017        2017-2     12  \n",
       "4                 2.0         1  2018        2018-1      2  "
      ]
     },
     "execution_count": 162,
     "metadata": {},
     "output_type": "execute_result"
    }
   ],
   "source": [
    "df.head()"
   ]
  },
  {
   "cell_type": "code",
   "execution_count": 120,
   "metadata": {},
   "outputs": [
    {
     "data": {
      "text/plain": [
       "Index(['year_semester', 'payment_value'], dtype='object')"
      ]
     },
     "execution_count": 120,
     "metadata": {},
     "output_type": "execute_result"
    }
   ],
   "source": [
    "df2 = df.groupby(['year_semester']).agg({'payment_value':['sum'] })\n",
    "df2 = df2.reset_index()\n",
    "df2.columns = ['year_semester', 'payment_value']\n",
    "df2.columns"
   ]
  },
  {
   "cell_type": "code",
   "execution_count": 121,
   "metadata": {},
   "outputs": [
    {
     "data": {
      "text/plain": [
       "<matplotlib.axes._subplots.AxesSubplot at 0x1a376eee10>"
      ]
     },
     "execution_count": 121,
     "metadata": {},
     "output_type": "execute_result"
    },
    {
     "data": {
      "image/png": "[encoded data removed]",
      "text/plain": [
       "<Figure size 432x288 with 1 Axes>"
      ]
     },
     "metadata": {
      "needs_background": "light"
     },
     "output_type": "display_data"
    }
   ],
   "source": [
    "sns.scatterplot(x = 'year_semester', y = 'payment_value', data = df2)"
   ]
  },
  {
   "cell_type": "code",
   "execution_count": 205,
   "metadata": {},
   "outputs": [],
   "source": [
    "df3 = df.groupby(['month']).agg({'payment_value':['sum'] })\n",
    "df3 = df3.reset_index()\n",
    "df3.columns = ['month', 'tot_payment_value']"
   ]
  },
  {
   "cell_type": "code",
   "execution_count": 206,
   "metadata": {},
   "outputs": [
    {
     "data": {
      "text/plain": [
       "<matplotlib.axes._subplots.AxesSubplot at 0x1a7b0bc1d0>"
      ]
     },
     "execution_count": 206,
     "metadata": {},
     "output_type": "execute_result"
    },
    {
     "data": {
      "image/png": "[encoded data removed]",
      "text/plain": [
       "<Figure size 1080x432 with 1 Axes>"
      ]
     },
     "metadata": {
      "needs_background": "light"
     },
     "output_type": "display_data"
    }
   ],
   "source": [
    "fig = plt.figure(figsize=(15,6)) \n",
    "ax = fig.gca()\n",
    "sns.barplot(x = 'month', y = 'tot_payment_value', data = df3)"
   ]
  },
  {
   "cell_type": "code",
   "execution_count": 167,
   "metadata": {},
   "outputs": [
    {
     "data": {
      "text/plain": [
       "Timestamp('2018-08-29 15:00:37')"
      ]
     },
     "execution_count": 167,
     "metadata": {},
     "output_type": "execute_result"
    }
   ],
   "source": [
    "max_date = max(df.order_purchase_timestamp)\n",
    "max_date"
   ]
  },
  {
   "cell_type": "code",
   "execution_count": 168,
   "metadata": {},
   "outputs": [
    {
     "data": {
      "text/plain": [
       "Timestamp('2016-10-03 09:44:50')"
      ]
     },
     "execution_count": 168,
     "metadata": {},
     "output_type": "execute_result"
    }
   ],
   "source": [
    "min_date = min(df.order_purchase_timestamp)\n",
    "min_date"
   ]
  },
  {
   "cell_type": "code",
   "execution_count": 203,
   "metadata": {},
   "outputs": [],
   "source": [
    "df4 = df.groupby(['customer_state']).agg({'payment_value':['sum'] })\n",
    "df4 = df4.reset_index()\n",
    "df4.columns = ['customer_state', 'tot_payment_value']\n",
    "df4 = df4.sort_values('tot_payment_value', ascending = False)"
   ]
  },
  {
   "cell_type": "code",
   "execution_count": 204,
   "metadata": {},
   "outputs": [
    {
     "data": {
      "text/plain": [
       "<matplotlib.axes._subplots.AxesSubplot at 0x1a7b7b8f60>"
      ]
     },
     "execution_count": 204,
     "metadata": {},
     "output_type": "execute_result"
    },
    {
     "data": {
      "image/png": "[encoded data removed]",
      "text/plain": [
       "<Figure size 1080x432 with 1 Axes>"
      ]
     },
     "metadata": {
      "needs_background": "light"
     },
     "output_type": "display_data"
    }
   ],
   "source": [
    "fig = plt.figure(figsize=(15,6)) \n",
    "ax = fig.gca()\n",
    "sns.barplot(x = 'customer_state', y = 'tot_payment_value', data = df4)"
   ]
  },
  {
   "cell_type": "code",
   "execution_count": 201,
   "metadata": {},
   "outputs": [],
   "source": [
    "df5 = df.groupby(['product_photos_qty']).agg({'payment_value':['mean'] })\n",
    "df5 = df5.reset_index()\n",
    "df5.columns = ['product_photos_qty', 'avg_payment_value']\n",
    "df5 = df5.sort_values('avg_payment_value', ascending = False)"
   ]
  },
  {
   "cell_type": "code",
   "execution_count": 202,
   "metadata": {},
   "outputs": [
    {
     "data": {
      "text/plain": [
       "<matplotlib.axes._subplots.AxesSubplot at 0x1a7bcb83c8>"
      ]
     },
     "execution_count": 202,
     "metadata": {},
     "output_type": "execute_result"
    },
    {
     "data": {
      "image/png": "[encoded data removed]",
      "text/plain": [
       "<Figure size 1080x432 with 1 Axes>"
      ]
     },
     "metadata": {
      "needs_background": "light"
     },
     "output_type": "display_data"
    }
   ],
   "source": [
    "fig = plt.figure(figsize=(15,6)) \n",
    "ax = fig.gca()\n",
    "sns.barplot(x = 'product_photos_qty', y = 'avg_payment_value', data = df5)"
   ]
  },
  {
   "cell_type": "code",
   "execution_count": 207,
   "metadata": {},
   "outputs": [
    {
     "data": {
      "text/html": [
       "<div>\n",
       "<style scoped>\n",
       "    .dataframe tbody tr th:only-of-type {\n",
       "        vertical-align: middle;\n",
       "    }\n",
       "\n",
       "    .dataframe tbody tr th {\n",
       "        vertical-align: top;\n",
       "    }\n",
       "\n",
       "    .dataframe thead th {\n",
       "        text-align: right;\n",
       "    }\n",
       "</style>\n",
       "<table border=\"1\" class=\"dataframe\">\n",
       "  <thead>\n",
       "    <tr style=\"text-align: right;\">\n",
       "      <th></th>\n",
       "      <th>product_photos_qty</th>\n",
       "      <th>avg_payment_value</th>\n",
       "    </tr>\n",
       "  </thead>\n",
       "  <tbody>\n",
       "    <tr>\n",
       "      <td>13</td>\n",
       "      <td>14.0</td>\n",
       "      <td>266.475000</td>\n",
       "    </tr>\n",
       "    <tr>\n",
       "      <td>9</td>\n",
       "      <td>10.0</td>\n",
       "      <td>202.551729</td>\n",
       "    </tr>\n",
       "    <tr>\n",
       "      <td>3</td>\n",
       "      <td>4.0</td>\n",
       "      <td>189.358675</td>\n",
       "    </tr>\n",
       "    <tr>\n",
       "      <td>6</td>\n",
       "      <td>7.0</td>\n",
       "      <td>185.602387</td>\n",
       "    </tr>\n",
       "    <tr>\n",
       "      <td>2</td>\n",
       "      <td>3.0</td>\n",
       "      <td>181.842852</td>\n",
       "    </tr>\n",
       "    <tr>\n",
       "      <td>7</td>\n",
       "      <td>8.0</td>\n",
       "      <td>178.663079</td>\n",
       "    </tr>\n",
       "    <tr>\n",
       "      <td>8</td>\n",
       "      <td>9.0</td>\n",
       "      <td>177.874757</td>\n",
       "    </tr>\n",
       "    <tr>\n",
       "      <td>5</td>\n",
       "      <td>6.0</td>\n",
       "      <td>173.580065</td>\n",
       "    </tr>\n",
       "    <tr>\n",
       "      <td>0</td>\n",
       "      <td>1.0</td>\n",
       "      <td>171.139405</td>\n",
       "    </tr>\n",
       "    <tr>\n",
       "      <td>4</td>\n",
       "      <td>5.0</td>\n",
       "      <td>169.545901</td>\n",
       "    </tr>\n",
       "    <tr>\n",
       "      <td>1</td>\n",
       "      <td>2.0</td>\n",
       "      <td>161.939389</td>\n",
       "    </tr>\n",
       "    <tr>\n",
       "      <td>17</td>\n",
       "      <td>19.0</td>\n",
       "      <td>156.820000</td>\n",
       "    </tr>\n",
       "    <tr>\n",
       "      <td>15</td>\n",
       "      <td>17.0</td>\n",
       "      <td>134.614545</td>\n",
       "    </tr>\n",
       "    <tr>\n",
       "      <td>18</td>\n",
       "      <td>20.0</td>\n",
       "      <td>130.530000</td>\n",
       "    </tr>\n",
       "    <tr>\n",
       "      <td>10</td>\n",
       "      <td>11.0</td>\n",
       "      <td>122.154658</td>\n",
       "    </tr>\n",
       "    <tr>\n",
       "      <td>14</td>\n",
       "      <td>15.0</td>\n",
       "      <td>113.016364</td>\n",
       "    </tr>\n",
       "    <tr>\n",
       "      <td>16</td>\n",
       "      <td>18.0</td>\n",
       "      <td>108.395000</td>\n",
       "    </tr>\n",
       "    <tr>\n",
       "      <td>11</td>\n",
       "      <td>12.0</td>\n",
       "      <td>70.399492</td>\n",
       "    </tr>\n",
       "    <tr>\n",
       "      <td>12</td>\n",
       "      <td>13.0</td>\n",
       "      <td>64.210667</td>\n",
       "    </tr>\n",
       "  </tbody>\n",
       "</table>\n",
       "</div>"
      ],
      "text/plain": [
       "    product_photos_qty  avg_payment_value\n",
       "13                14.0         266.475000\n",
       "9                 10.0         202.551729\n",
       "3                  4.0         189.358675\n",
       "6                  7.0         185.602387\n",
       "2                  3.0         181.842852\n",
       "7                  8.0         178.663079\n",
       "8                  9.0         177.874757\n",
       "5                  6.0         173.580065\n",
       "0                  1.0         171.139405\n",
       "4                  5.0         169.545901\n",
       "1                  2.0         161.939389\n",
       "17                19.0         156.820000\n",
       "15                17.0         134.614545\n",
       "18                20.0         130.530000\n",
       "10                11.0         122.154658\n",
       "14                15.0         113.016364\n",
       "16                18.0         108.395000\n",
       "11                12.0          70.399492\n",
       "12                13.0          64.210667"
      ]
     },
     "execution_count": 207,
     "metadata": {},
     "output_type": "execute_result"
    }
   ],
   "source": []
  },
  {
   "cell_type": "code",
   "execution_count": null,
   "metadata": {},
   "outputs": [],
   "source": []
  }
 ],
 "metadata": {
  "kernelspec": {
   "display_name": "Python 3",
   "language": "python",
   "name": "python3"
  },
  "language_info": {
   "codemirror_mode": {
    "name": "ipython",
    "version": 3
   },
   "file_extension": ".py",
   "mimetype": "text/x-python",
   "name": "python",
   "nbconvert_exporter": "python",
   "pygments_lexer": "ipython3",
   "version": "3.7.4"
  }
 },
 "nbformat": 4,
 "nbformat_minor": 2
}
